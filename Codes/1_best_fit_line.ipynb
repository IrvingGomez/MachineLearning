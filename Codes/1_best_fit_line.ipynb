{
 "cells": [
  {
   "cell_type": "code",
   "execution_count": 1,
   "metadata": {},
   "outputs": [],
   "source": [
    "#########################\n",
    "##                     ##\n",
    "## Irving Gomez Mendez ##\n",
    "##  February 12, 2021  ##\n",
    "##                     ##\n",
    "#########################\n",
    "\n",
    "import numpy as np\n",
    "import matplotlib.pyplot as plt\n",
    "from scipy.stats import t"
   ]
  },
  {
   "cell_type": "code",
   "execution_count": 2,
   "metadata": {},
   "outputs": [],
   "source": [
    "dat = np.array([[100, 89, 89, 92, 78, 101, 90, 82, 95, 108, 111, 112,\n",
    "    125, 123, 100, 102, 112, 112, 100, 107, 103, 129, 118, 149],\n",
    "    [709, 740, 586, 806, 694, 760, 664, 509, 619, 652, 772, 896,\n",
    "    742, 831, 667, 772, 838, 679, 889, 690, 698, 860, 799, 882]]).T\n",
    "dat = dat/10\n",
    "\n",
    "n = dat.shape[0]\n",
    "yy = dat[:,1]\n",
    "XX = np.vstack([np.ones(n),dat[:,0]]).T\n",
    "p = XX.shape[1]"
   ]
  },
  {
   "cell_type": "code",
   "execution_count": 6,
   "metadata": {},
   "outputs": [
    {
     "data": {
      "text/plain": [
       "array([33.482,  3.846])"
      ]
     },
     "execution_count": 6,
     "metadata": {},
     "output_type": "execute_result"
    }
   ],
   "source": [
    "# We compute the coeff.\n",
    "# Calculating the inverse\n",
    "beta_0, beta_1 = np.linalg.inv(XX.T @ XX) @ XX.T @ yy\n",
    "np.round(np.array([beta_0, beta_1]), 3)"
   ]
  },
  {
   "cell_type": "code",
   "execution_count": 7,
   "metadata": {},
   "outputs": [
    {
     "data": {
      "text/plain": [
       "array([33.482,  3.846])"
      ]
     },
     "execution_count": 7,
     "metadata": {},
     "output_type": "execute_result"
    }
   ],
   "source": [
    "# Using solve\n",
    "beta_0, beta_1 = np.linalg.solve(XX.T @ XX, XX.T @ yy)\n",
    "np.round(np.array([beta_0, beta_1]), 3)"
   ]
  },
  {
   "cell_type": "code",
   "execution_count": 8,
   "metadata": {},
   "outputs": [
    {
     "data": {
      "text/plain": [
       "array([33.482,  3.846])"
      ]
     },
     "execution_count": 8,
     "metadata": {},
     "output_type": "execute_result"
    }
   ],
   "source": [
    "# Using the least squares procedure\n",
    "beta_0, beta_1 = np.linalg.lstsq(XX, yy, rcond=None)[0]\n",
    "np.round(np.array([beta_0, beta_1]), 3)"
   ]
  },
  {
   "cell_type": "code",
   "execution_count": 6,
   "metadata": {},
   "outputs": [
    {
     "data": {
      "text/plain": [
       "1426.5"
      ]
     },
     "execution_count": 6,
     "metadata": {},
     "output_type": "execute_result"
    }
   ],
   "source": [
    "# Calculate the SSR\n",
    "hat_yy = XX @ np.array([beta_0, beta_1])\n",
    "SSR = sum((hat_yy-yy)**2)\n",
    "round(SSR,3)"
   ]
  },
  {
   "cell_type": "code",
   "execution_count": 7,
   "metadata": {},
   "outputs": [
    {
     "data": {
      "text/plain": [
       "array([1426.5])"
      ]
     },
     "execution_count": 7,
     "metadata": {},
     "output_type": "execute_result"
    }
   ],
   "source": [
    "# Using the least squares procesure\n",
    "SSR = np.linalg.lstsq(XX, yy, rcond=None)[1]\n",
    "np.round(SSR,3)"
   ]
  },
  {
   "cell_type": "code",
   "execution_count": 8,
   "metadata": {},
   "outputs": [],
   "source": [
    "# We get confidence interval\n",
    "alpha = 0.05\n",
    "x0 = np.linspace(7, 15, 50)\n",
    "X0 = np.array([np.ones(len(x0)),x0]).T\n",
    "\n",
    "aux_t_conf = np.sqrt(SSE/(n-p)*(np.diag(X0 @ np.linalg.inv(XX.T @ XX) @ X0.T)))\n",
    "yy0_hat = X0 @ np.array([beta_0, beta_1])\n",
    "upp_conf = yy0_hat+t.ppf(1-alpha/2,n-p)*aux_t_conf\n",
    "low_conf = yy0_hat-t.ppf(1-alpha/2,n-p)*aux_t_conf\n",
    "\n",
    "# We get prediction interval\n",
    "aux_t_pred = np.sqrt(SSE/(n-p)*(1+np.diag(X0 @ np.linalg.inv(XX.T @ XX) @ X0.T)))\n",
    "yy0_hat = X0 @ np.array([beta_0, beta_1])\n",
    "upp_pred = yy0_hat+t.ppf(1-alpha/2,n-p)*aux_t_pred\n",
    "low_pred = yy0_hat-t.ppf(1-alpha/2,n-p)*aux_t_pred"
   ]
  },
  {
   "cell_type": "code",
   "execution_count": 9,
   "metadata": {},
   "outputs": [
    {
     "data": {
      "text/plain": [
       "<matplotlib.legend.Legend at 0x7fd438f6cbe0>"
      ]
     },
     "execution_count": 9,
     "metadata": {},
     "output_type": "execute_result"
    },
    {
     "data": {
      "image/png": "[encoded data removed]",
      "text/plain": [
       "<Figure size 720x360 with 1 Axes>"
      ]
     },
     "metadata": {
      "needs_background": "light"
     },
     "output_type": "display_data"
    }
   ],
   "source": [
    "plt.figure(figsize=(10,5))\n",
    "plt.plot(dat[:,0], yy, 'o', label='Original data', markersize=5)\n",
    "plt.plot(x0, beta_0+beta_1*x0, 'r', label='Fitted line')\n",
    "plt.fill_between(x0, low_pred, upp_pred, facecolor='green', alpha=0.5, label='Prediction interval')\n",
    "plt.fill_between(x0, low_conf, upp_conf, facecolor='yellow', alpha=0.5, label='Confidence interval')\n",
    "plt.legend(loc='upper left')"
   ]
  }
 ],
 "metadata": {
  "interpreter": {
   "hash": "e7370f93d1d0cde622a1f8e1c04877d8463912d04d973331ad4851f04de6915a"
  },
  "kernelspec": {
   "display_name": "Python 3.10.1 64-bit",
   "language": "python",
   "name": "python3"
  },
  "language_info": {
   "codemirror_mode": {
    "name": "ipython",
    "version": 3
   },
   "file_extension": ".py",
   "mimetype": "text/x-python",
   "name": "python",
   "nbconvert_exporter": "python",
   "pygments_lexer": "ipython3",
   "version": "3.10.1"
  },
  "orig_nbformat": 4
 },
 "nbformat": 4,
 "nbformat_minor": 2
}
