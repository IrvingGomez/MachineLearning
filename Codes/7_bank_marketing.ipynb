{
 "cells": [
  {
   "cell_type": "markdown",
   "metadata": {},
   "source": [
    "# Bank marketing\n",
    "\n",
    "### Irving Gomez Mendez\n",
    "### May 11, 2021"
   ]
  },
  {
   "cell_type": "code",
   "execution_count": 2,
   "metadata": {},
   "outputs": [],
   "source": [
    "import numpy as np\n",
    "import pandas as pd\n",
    "import seaborn as sns\n",
    "import matplotlib.pyplot as plt\n",
    "\n",
    "from scipy.stats import boxcox, chi2_contingency\n",
    "from sklearn.linear_model import Ridge, RidgeCV\n",
    "from sklearn.model_selection import RepeatedKFold\n",
    "from sklearn.metrics import mean_squared_error\n",
    "from sklearn.preprocessing import StandardScaler\n",
    "from sklearn.model_selection import train_test_split\n",
    "from statsmodels.stats.outliers_influence import variance_inflation_factor"
   ]
  },
  {
   "cell_type": "code",
   "execution_count": 3,
   "metadata": {},
   "outputs": [],
   "source": [
    "def hist_variable(data, variable, binwidth=None):\n",
    "    plt.figure(figsize=(10,7.5))\n",
    "    sns.histplot(data=data, x=variable, stat='density', color='rebeccapurple')\n",
    "    sns.kdeplot(data=data, x=variable, fill=True, color='rebeccapurple', linewidth=2)"
   ]
  },
  {
   "cell_type": "code",
   "execution_count": 4,
   "metadata": {},
   "outputs": [],
   "source": [
    "dat = pd.read_csv(\"bank_additional/bank-additional.csv\", sep=';')\n",
    "dat = dat.rename(columns={'y':'deposit'})\n",
    "dat = dat.astype({\n",
    "    'job': 'category',\n",
    "    'marital': 'category',\n",
    "    'education': 'category',\n",
    "    'default': 'category',\n",
    "    'housing': 'category',\n",
    "    'loan': 'category',\n",
    "    'contact': 'category',\n",
    "    'month': 'category',\n",
    "    'day_of_week': 'category',\n",
    "    'poutcome': 'category',\n",
    "    'deposit': 'category'})\n",
    "\n",
    "dat = dat[['duration', 'emp.var.rate', 'cons.price.idx', 'cons.conf.idx', 'euribor3m', 'nr.employed']]"
   ]
  },
  {
   "cell_type": "code",
   "execution_count": 5,
   "metadata": {},
   "outputs": [
    {
     "data": {
      "text/html": [
       "<div>\n",
       "<style scoped>\n",
       "    .dataframe tbody tr th:only-of-type {\n",
       "        vertical-align: middle;\n",
       "    }\n",
       "\n",
       "    .dataframe tbody tr th {\n",
       "        vertical-align: top;\n",
       "    }\n",
       "\n",
       "    .dataframe thead th {\n",
       "        text-align: right;\n",
       "    }\n",
       "</style>\n",
       "<table border=\"1\" class=\"dataframe\">\n",
       "  <thead>\n",
       "    <tr style=\"text-align: right;\">\n",
       "      <th></th>\n",
       "      <th>duration</th>\n",
       "      <th>emp.var.rate</th>\n",
       "      <th>cons.price.idx</th>\n",
       "      <th>cons.conf.idx</th>\n",
       "      <th>euribor3m</th>\n",
       "      <th>nr.employed</th>\n",
       "    </tr>\n",
       "  </thead>\n",
       "  <tbody>\n",
       "    <tr>\n",
       "      <th>count</th>\n",
       "      <td>4119.000000</td>\n",
       "      <td>4119.000000</td>\n",
       "      <td>4119.000000</td>\n",
       "      <td>4119.000000</td>\n",
       "      <td>4119.000000</td>\n",
       "      <td>4119.000000</td>\n",
       "    </tr>\n",
       "    <tr>\n",
       "      <th>mean</th>\n",
       "      <td>256.788055</td>\n",
       "      <td>0.084972</td>\n",
       "      <td>93.579704</td>\n",
       "      <td>-40.499102</td>\n",
       "      <td>3.621356</td>\n",
       "      <td>5166.481695</td>\n",
       "    </tr>\n",
       "    <tr>\n",
       "      <th>std</th>\n",
       "      <td>254.703736</td>\n",
       "      <td>1.563114</td>\n",
       "      <td>0.579349</td>\n",
       "      <td>4.594578</td>\n",
       "      <td>1.733591</td>\n",
       "      <td>73.667904</td>\n",
       "    </tr>\n",
       "    <tr>\n",
       "      <th>min</th>\n",
       "      <td>0.000000</td>\n",
       "      <td>-3.400000</td>\n",
       "      <td>92.201000</td>\n",
       "      <td>-50.800000</td>\n",
       "      <td>0.635000</td>\n",
       "      <td>4963.600000</td>\n",
       "    </tr>\n",
       "    <tr>\n",
       "      <th>25%</th>\n",
       "      <td>103.000000</td>\n",
       "      <td>-1.800000</td>\n",
       "      <td>93.075000</td>\n",
       "      <td>-42.700000</td>\n",
       "      <td>1.334000</td>\n",
       "      <td>5099.100000</td>\n",
       "    </tr>\n",
       "    <tr>\n",
       "      <th>50%</th>\n",
       "      <td>181.000000</td>\n",
       "      <td>1.100000</td>\n",
       "      <td>93.749000</td>\n",
       "      <td>-41.800000</td>\n",
       "      <td>4.857000</td>\n",
       "      <td>5191.000000</td>\n",
       "    </tr>\n",
       "    <tr>\n",
       "      <th>75%</th>\n",
       "      <td>317.000000</td>\n",
       "      <td>1.400000</td>\n",
       "      <td>93.994000</td>\n",
       "      <td>-36.400000</td>\n",
       "      <td>4.961000</td>\n",
       "      <td>5228.100000</td>\n",
       "    </tr>\n",
       "    <tr>\n",
       "      <th>max</th>\n",
       "      <td>3643.000000</td>\n",
       "      <td>1.400000</td>\n",
       "      <td>94.767000</td>\n",
       "      <td>-26.900000</td>\n",
       "      <td>5.045000</td>\n",
       "      <td>5228.100000</td>\n",
       "    </tr>\n",
       "  </tbody>\n",
       "</table>\n",
       "</div>"
      ],
      "text/plain": [
       "          duration  emp.var.rate  cons.price.idx  cons.conf.idx    euribor3m  \\\n",
       "count  4119.000000   4119.000000     4119.000000    4119.000000  4119.000000   \n",
       "mean    256.788055      0.084972       93.579704     -40.499102     3.621356   \n",
       "std     254.703736      1.563114        0.579349       4.594578     1.733591   \n",
       "min       0.000000     -3.400000       92.201000     -50.800000     0.635000   \n",
       "25%     103.000000     -1.800000       93.075000     -42.700000     1.334000   \n",
       "50%     181.000000      1.100000       93.749000     -41.800000     4.857000   \n",
       "75%     317.000000      1.400000       93.994000     -36.400000     4.961000   \n",
       "max    3643.000000      1.400000       94.767000     -26.900000     5.045000   \n",
       "\n",
       "       nr.employed  \n",
       "count  4119.000000  \n",
       "mean   5166.481695  \n",
       "std      73.667904  \n",
       "min    4963.600000  \n",
       "25%    5099.100000  \n",
       "50%    5191.000000  \n",
       "75%    5228.100000  \n",
       "max    5228.100000  "
      ]
     },
     "execution_count": 5,
     "metadata": {},
     "output_type": "execute_result"
    }
   ],
   "source": [
    "# Brief description of the data\n",
    "dat.describe()"
   ]
  },
  {
   "cell_type": "code",
   "execution_count": 6,
   "metadata": {},
   "outputs": [
    {
     "data": {
      "image/png": "[encoded data removed]",
      "text/plain": [
       "<Figure size 720x540 with 1 Axes>"
      ]
     },
     "metadata": {
      "needs_background": "light"
     },
     "output_type": "display_data"
    }
   ],
   "source": [
    "hist_variable(dat, 'duration')"
   ]
  },
  {
   "cell_type": "code",
   "execution_count": 7,
   "metadata": {},
   "outputs": [],
   "source": [
    "dat = dat[dat['duration'] > 0]"
   ]
  },
  {
   "cell_type": "code",
   "execution_count": 8,
   "metadata": {},
   "outputs": [
    {
     "data": {
      "text/plain": [
       "0.14373775316797655"
      ]
     },
     "execution_count": 8,
     "metadata": {},
     "output_type": "execute_result"
    }
   ],
   "source": [
    "# We can perform a Box-Cox transformation to normalize the duration?\n",
    "duration_transform, lamb = boxcox(dat['duration'])\n",
    "\n",
    "lamb"
   ]
  },
  {
   "cell_type": "code",
   "execution_count": 9,
   "metadata": {},
   "outputs": [
    {
     "data": {
      "text/plain": [
       "<AxesSubplot:ylabel='Density'>"
      ]
     },
     "execution_count": 9,
     "metadata": {},
     "output_type": "execute_result"
    },
    {
     "data": {
      "image/png": "[encoded data removed]",
      "text/plain": [
       "<Figure size 720x540 with 1 Axes>"
      ]
     },
     "metadata": {
      "needs_background": "light"
     },
     "output_type": "display_data"
    }
   ],
   "source": [
    "plt.figure(figsize=(10,7.5))\n",
    "sns.histplot(duration_transform, stat='density', color='rebeccapurple')\n",
    "sns.kdeplot(duration_transform, fill=True, color='rebeccapurple', linewidth=2)"
   ]
  },
  {
   "cell_type": "code",
   "execution_count": 10,
   "metadata": {},
   "outputs": [
    {
     "data": {
      "text/plain": [
       "7.786876062380533"
      ]
     },
     "execution_count": 10,
     "metadata": {},
     "output_type": "execute_result"
    }
   ],
   "source": [
    "np.mean(duration_transform)"
   ]
  },
  {
   "cell_type": "code",
   "execution_count": 11,
   "metadata": {},
   "outputs": [
    {
     "data": {
      "text/plain": [
       "1.9060622062159207"
      ]
     },
     "execution_count": 11,
     "metadata": {},
     "output_type": "execute_result"
    }
   ],
   "source": [
    "np.std(duration_transform)"
   ]
  },
  {
   "cell_type": "code",
   "execution_count": 12,
   "metadata": {},
   "outputs": [
    {
     "data": {
      "text/plain": [
       "array([487., 346., 227., ...,  64., 528., 175.])"
      ]
     },
     "execution_count": 12,
     "metadata": {},
     "output_type": "execute_result"
    }
   ],
   "source": [
    "(duration_transform*lamb+1)**(1/lamb)"
   ]
  },
  {
   "cell_type": "code",
   "execution_count": 13,
   "metadata": {},
   "outputs": [],
   "source": [
    "dat['duration_transform'] = duration_transform"
   ]
  },
  {
   "cell_type": "markdown",
   "metadata": {},
   "source": [
    "Social and economic data"
   ]
  },
  {
   "cell_type": "code",
   "execution_count": 14,
   "metadata": {},
   "outputs": [
    {
     "data": {
      "text/html": [
       "<div>\n",
       "<style scoped>\n",
       "    .dataframe tbody tr th:only-of-type {\n",
       "        vertical-align: middle;\n",
       "    }\n",
       "\n",
       "    .dataframe tbody tr th {\n",
       "        vertical-align: top;\n",
       "    }\n",
       "\n",
       "    .dataframe thead th {\n",
       "        text-align: right;\n",
       "    }\n",
       "</style>\n",
       "<table border=\"1\" class=\"dataframe\">\n",
       "  <thead>\n",
       "    <tr style=\"text-align: right;\">\n",
       "      <th></th>\n",
       "      <th>emp.var.rate</th>\n",
       "      <th>cons.price.idx</th>\n",
       "      <th>cons.conf.idx</th>\n",
       "      <th>euribor3m</th>\n",
       "      <th>nr.employed</th>\n",
       "    </tr>\n",
       "  </thead>\n",
       "  <tbody>\n",
       "    <tr>\n",
       "      <th>count</th>\n",
       "      <td>4118.000</td>\n",
       "      <td>4118.000</td>\n",
       "      <td>4118.000</td>\n",
       "      <td>4118.000</td>\n",
       "      <td>4118.000</td>\n",
       "    </tr>\n",
       "    <tr>\n",
       "      <th>mean</th>\n",
       "      <td>0.085</td>\n",
       "      <td>93.580</td>\n",
       "      <td>-40.500</td>\n",
       "      <td>3.621</td>\n",
       "      <td>5166.476</td>\n",
       "    </tr>\n",
       "    <tr>\n",
       "      <th>std</th>\n",
       "      <td>1.563</td>\n",
       "      <td>0.579</td>\n",
       "      <td>4.595</td>\n",
       "      <td>1.734</td>\n",
       "      <td>73.676</td>\n",
       "    </tr>\n",
       "    <tr>\n",
       "      <th>min</th>\n",
       "      <td>-3.400</td>\n",
       "      <td>92.201</td>\n",
       "      <td>-50.800</td>\n",
       "      <td>0.635</td>\n",
       "      <td>4963.600</td>\n",
       "    </tr>\n",
       "    <tr>\n",
       "      <th>25%</th>\n",
       "      <td>-1.800</td>\n",
       "      <td>93.075</td>\n",
       "      <td>-42.700</td>\n",
       "      <td>1.334</td>\n",
       "      <td>5099.100</td>\n",
       "    </tr>\n",
       "    <tr>\n",
       "      <th>50%</th>\n",
       "      <td>1.100</td>\n",
       "      <td>93.749</td>\n",
       "      <td>-41.800</td>\n",
       "      <td>4.857</td>\n",
       "      <td>5191.000</td>\n",
       "    </tr>\n",
       "    <tr>\n",
       "      <th>75%</th>\n",
       "      <td>1.400</td>\n",
       "      <td>93.994</td>\n",
       "      <td>-36.400</td>\n",
       "      <td>4.961</td>\n",
       "      <td>5228.100</td>\n",
       "    </tr>\n",
       "    <tr>\n",
       "      <th>max</th>\n",
       "      <td>1.400</td>\n",
       "      <td>94.767</td>\n",
       "      <td>-26.900</td>\n",
       "      <td>5.045</td>\n",
       "      <td>5228.100</td>\n",
       "    </tr>\n",
       "  </tbody>\n",
       "</table>\n",
       "</div>"
      ],
      "text/plain": [
       "       emp.var.rate  cons.price.idx  cons.conf.idx  euribor3m  nr.employed\n",
       "count      4118.000        4118.000       4118.000   4118.000     4118.000\n",
       "mean          0.085          93.580        -40.500      3.621     5166.476\n",
       "std           1.563           0.579          4.595      1.734       73.676\n",
       "min          -3.400          92.201        -50.800      0.635     4963.600\n",
       "25%          -1.800          93.075        -42.700      1.334     5099.100\n",
       "50%           1.100          93.749        -41.800      4.857     5191.000\n",
       "75%           1.400          93.994        -36.400      4.961     5228.100\n",
       "max           1.400          94.767        -26.900      5.045     5228.100"
      ]
     },
     "execution_count": 14,
     "metadata": {},
     "output_type": "execute_result"
    }
   ],
   "source": [
    "dat_social_economic = dat[['emp.var.rate', 'cons.price.idx', 'cons.conf.idx', 'euribor3m', 'nr.employed']]\n",
    "np.round(dat_social_economic.describe(),3)"
   ]
  },
  {
   "cell_type": "code",
   "execution_count": 15,
   "metadata": {},
   "outputs": [
    {
     "data": {
      "text/plain": [
       "26088.67275429151"
      ]
     },
     "execution_count": 15,
     "metadata": {},
     "output_type": "execute_result"
    }
   ],
   "source": [
    "# We check the condition number\n",
    "np.linalg.cond(dat_social_economic)\n",
    "# The condition number is too big, we can see that nr.employed has a different scale that the other features.\n",
    "# It could be better to standardize this data"
   ]
  },
  {
   "cell_type": "code",
   "execution_count": 16,
   "metadata": {},
   "outputs": [
    {
     "data": {
      "text/plain": [
       "17.689800138608643"
      ]
     },
     "execution_count": 16,
     "metadata": {},
     "output_type": "execute_result"
    }
   ],
   "source": [
    "dat_social_economic_scale = StandardScaler().fit_transform(dat_social_economic)\n",
    "dat_social_economic_scale = pd.DataFrame(dat_social_economic_scale, columns=dat_social_economic.columns)\n",
    "\n",
    "np.linalg.cond(dat_social_economic_scale)\n",
    "# The condition number is low now, but it could mean a moderate to high correlation between variables\n",
    "\n",
    "# Kendall-Silvey suggestion as follows: there are as many near dependencies among the columns of a data matrix X as\n",
    "# there are high condition indexes (singular values small relative to p,,). Two points regarding this extension must be emphasized.\n",
    "\n",
    "# weak dependencies are associated with condition indexes around 5 or 10, whereas moderate to strong\n",
    "# relations are associated with condition indexes of 30 to 100."
   ]
  },
  {
   "cell_type": "code",
   "execution_count": 18,
   "metadata": {},
   "outputs": [
    {
     "data": {
      "text/plain": [
       "<AxesSubplot:>"
      ]
     },
     "execution_count": 18,
     "metadata": {},
     "output_type": "execute_result"
    },
    {
     "data": {
      "image/png": "[encoded data removed]",
      "text/plain": [
       "<Figure size 720x540 with 2 Axes>"
      ]
     },
     "metadata": {
      "needs_background": "light"
     },
     "output_type": "display_data"
    }
   ],
   "source": [
    "corr_matrix = dat_social_economic_scale.corr()\n",
    "\n",
    "plt.figure(figsize=(10,7.5))\n",
    "sns.heatmap(corr_matrix, cmap='Purples')\n",
    "# It looks like 4 variables, except cons.conf.idx are highly correlated\n",
    "# Especially euribor3m and nr.employed, we could just select one of these variables"
   ]
  },
  {
   "cell_type": "code",
   "execution_count": 19,
   "metadata": {},
   "outputs": [
    {
     "data": {
      "text/html": [
       "<div>\n",
       "<style scoped>\n",
       "    .dataframe tbody tr th:only-of-type {\n",
       "        vertical-align: middle;\n",
       "    }\n",
       "\n",
       "    .dataframe tbody tr th {\n",
       "        vertical-align: top;\n",
       "    }\n",
       "\n",
       "    .dataframe thead th {\n",
       "        text-align: right;\n",
       "    }\n",
       "</style>\n",
       "<table border=\"1\" class=\"dataframe\">\n",
       "  <thead>\n",
       "    <tr style=\"text-align: right;\">\n",
       "      <th></th>\n",
       "      <th>emp.var.rate</th>\n",
       "      <th>cons.price.idx</th>\n",
       "      <th>cons.conf.idx</th>\n",
       "      <th>euribor3m</th>\n",
       "      <th>nr.employed</th>\n",
       "    </tr>\n",
       "  </thead>\n",
       "  <tbody>\n",
       "    <tr>\n",
       "      <th>emp.var.rate</th>\n",
       "      <td>1.000000</td>\n",
       "      <td>0.755127</td>\n",
       "      <td>0.194910</td>\n",
       "      <td>0.970305</td>\n",
       "      <td>0.897179</td>\n",
       "    </tr>\n",
       "    <tr>\n",
       "      <th>cons.price.idx</th>\n",
       "      <td>0.755127</td>\n",
       "      <td>1.000000</td>\n",
       "      <td>0.045687</td>\n",
       "      <td>0.657117</td>\n",
       "      <td>0.472538</td>\n",
       "    </tr>\n",
       "    <tr>\n",
       "      <th>cons.conf.idx</th>\n",
       "      <td>0.194910</td>\n",
       "      <td>0.045687</td>\n",
       "      <td>1.000000</td>\n",
       "      <td>0.276484</td>\n",
       "      <td>0.106994</td>\n",
       "    </tr>\n",
       "    <tr>\n",
       "      <th>euribor3m</th>\n",
       "      <td>0.970305</td>\n",
       "      <td>0.657117</td>\n",
       "      <td>0.276484</td>\n",
       "      <td>1.000000</td>\n",
       "      <td>0.942603</td>\n",
       "    </tr>\n",
       "    <tr>\n",
       "      <th>nr.employed</th>\n",
       "      <td>0.897179</td>\n",
       "      <td>0.472538</td>\n",
       "      <td>0.106994</td>\n",
       "      <td>0.942603</td>\n",
       "      <td>1.000000</td>\n",
       "    </tr>\n",
       "  </tbody>\n",
       "</table>\n",
       "</div>"
      ],
      "text/plain": [
       "                emp.var.rate  cons.price.idx  cons.conf.idx  euribor3m  \\\n",
       "emp.var.rate        1.000000        0.755127       0.194910   0.970305   \n",
       "cons.price.idx      0.755127        1.000000       0.045687   0.657117   \n",
       "cons.conf.idx       0.194910        0.045687       1.000000   0.276484   \n",
       "euribor3m           0.970305        0.657117       0.276484   1.000000   \n",
       "nr.employed         0.897179        0.472538       0.106994   0.942603   \n",
       "\n",
       "                nr.employed  \n",
       "emp.var.rate       0.897179  \n",
       "cons.price.idx     0.472538  \n",
       "cons.conf.idx      0.106994  \n",
       "euribor3m          0.942603  \n",
       "nr.employed        1.000000  "
      ]
     },
     "execution_count": 19,
     "metadata": {},
     "output_type": "execute_result"
    }
   ],
   "source": [
    "corr_matrix"
   ]
  },
  {
   "cell_type": "code",
   "execution_count": 20,
   "metadata": {},
   "outputs": [
    {
     "data": {
      "text/html": [
       "<div>\n",
       "<style scoped>\n",
       "    .dataframe tbody tr th:only-of-type {\n",
       "        vertical-align: middle;\n",
       "    }\n",
       "\n",
       "    .dataframe tbody tr th {\n",
       "        vertical-align: top;\n",
       "    }\n",
       "\n",
       "    .dataframe thead th {\n",
       "        text-align: right;\n",
       "    }\n",
       "</style>\n",
       "<table border=\"1\" class=\"dataframe\">\n",
       "  <thead>\n",
       "    <tr style=\"text-align: right;\">\n",
       "      <th></th>\n",
       "      <th>VIF Factor</th>\n",
       "      <th>features</th>\n",
       "    </tr>\n",
       "  </thead>\n",
       "  <tbody>\n",
       "    <tr>\n",
       "      <th>0</th>\n",
       "      <td>31.68</td>\n",
       "      <td>emp.var.rate</td>\n",
       "    </tr>\n",
       "    <tr>\n",
       "      <th>1</th>\n",
       "      <td>6.29</td>\n",
       "      <td>cons.price.idx</td>\n",
       "    </tr>\n",
       "    <tr>\n",
       "      <th>2</th>\n",
       "      <td>2.49</td>\n",
       "      <td>cons.conf.idx</td>\n",
       "    </tr>\n",
       "    <tr>\n",
       "      <th>3</th>\n",
       "      <td>62.36</td>\n",
       "      <td>euribor3m</td>\n",
       "    </tr>\n",
       "    <tr>\n",
       "      <th>4</th>\n",
       "      <td>30.13</td>\n",
       "      <td>nr.employed</td>\n",
       "    </tr>\n",
       "  </tbody>\n",
       "</table>\n",
       "</div>"
      ],
      "text/plain": [
       "   VIF Factor        features\n",
       "0       31.68    emp.var.rate\n",
       "1        6.29  cons.price.idx\n",
       "2        2.49   cons.conf.idx\n",
       "3       62.36       euribor3m\n",
       "4       30.13     nr.employed"
      ]
     },
     "execution_count": 20,
     "metadata": {},
     "output_type": "execute_result"
    }
   ],
   "source": [
    "# We calculate the Variance Inflation Factors\n",
    "\n",
    "#One recommendation is that if VIF is greater than 5, then the explanatory\n",
    "#variable given by exog_idx is highly collinear with the other explanatory\n",
    "#variables, and the parameter estimates will have large standard errors\n",
    "#because of this.\n",
    "\n",
    "vif = pd.DataFrame()\n",
    "vif[\"VIF Factor\"] = np.round([variance_inflation_factor(dat_social_economic_scale.values, i) for i in range(dat_social_economic_scale.shape[1])],2)\n",
    "vif[\"features\"] = dat_social_economic_scale.columns\n",
    "vif"
   ]
  },
  {
   "cell_type": "code",
   "execution_count": 21,
   "metadata": {},
   "outputs": [
    {
     "data": {
      "text/plain": [
       "array([31.68631844,  6.28819962,  2.48861078, 62.37406468, 30.13392871])"
      ]
     },
     "execution_count": 21,
     "metadata": {},
     "output_type": "execute_result"
    }
   ],
   "source": [
    "np.diag(np.linalg.inv(dat_social_economic_scale.T @ dat_social_economic_scale))*4119"
   ]
  },
  {
   "cell_type": "code",
   "execution_count": 22,
   "metadata": {},
   "outputs": [
    {
     "data": {
      "text/plain": [
       "array([31.67862571,  6.28667299,  2.4880066 , 62.35892167, 30.12661288])"
      ]
     },
     "execution_count": 22,
     "metadata": {},
     "output_type": "execute_result"
    }
   ],
   "source": [
    "np.diag(np.linalg.inv(corr_matrix))"
   ]
  },
  {
   "cell_type": "code",
   "execution_count": 23,
   "metadata": {},
   "outputs": [
    {
     "data": {
      "text/plain": [
       "<seaborn.axisgrid.PairGrid at 0x7f903c30a5f0>"
      ]
     },
     "execution_count": 23,
     "metadata": {},
     "output_type": "execute_result"
    },
    {
     "data": {
      "text/plain": [
       "<Figure size 360x360 with 0 Axes>"
      ]
     },
     "metadata": {},
     "output_type": "display_data"
    },
    {
     "data": {
      "image/png": "[encoded data removed]",
      "text/plain": [
       "<Figure size 900x900 with 20 Axes>"
      ]
     },
     "metadata": {
      "needs_background": "light"
     },
     "output_type": "display_data"
    }
   ],
   "source": [
    "# Let's do the pairplot.\n",
    "plt.figure(figsize=(5,5))\n",
    "sns.pairplot(dat_social_economic_scale, kind=\"reg\", corner = True,\n",
    "    plot_kws={'line_kws':{'color':'orange'}, 'scatter_kws':{'color': 'rebeccapurple'}},\n",
    "    diag_kws={'color': 'rebeccapurple'})"
   ]
  },
  {
   "cell_type": "code",
   "execution_count": 25,
   "metadata": {},
   "outputs": [
    {
     "data": {
      "text/plain": [
       "array([ 1.  ,  1.86,  2.48, 11.45, 17.69])"
      ]
     },
     "execution_count": 25,
     "metadata": {},
     "output_type": "execute_result"
    }
   ],
   "source": [
    "# We can check all the condition indexes\n",
    "u, d, vt = np.linalg.svd(dat_social_economic_scale)\n",
    "v = vt.T\n",
    "\n",
    "np.round(d[0]/d,2)"
   ]
  },
  {
   "cell_type": "code",
   "execution_count": 26,
   "metadata": {},
   "outputs": [],
   "source": [
    "# There are two conditions indexes above 10, the rest are below 5. This would mean that there\n",
    "# are 2 collinearities in the data\n",
    "phis = v**2/d**2\n",
    "var_decomp_portions = phis.T/sum(phis.T)"
   ]
  },
  {
   "cell_type": "code",
   "execution_count": 27,
   "metadata": {},
   "outputs": [
    {
     "data": {
      "text/plain": [
       "[Text(0.5, 0, 'emp.var.rate'),\n",
       " Text(1.5, 0, 'cons.price.idx'),\n",
       " Text(2.5, 0, 'cons.conf.idx'),\n",
       " Text(3.5, 0, 'euribor3m'),\n",
       " Text(4.5, 0, 'nr.employed')]"
      ]
     },
     "execution_count": 27,
     "metadata": {},
     "output_type": "execute_result"
    },
    {
     "data": {
      "image/png": "[encoded data removed]",
      "text/plain": [
       "<Figure size 720x540 with 2 Axes>"
      ]
     },
     "metadata": {
      "needs_background": "light"
     },
     "output_type": "display_data"
    }
   ],
   "source": [
    "plt.figure(figsize=(10,7.5))\n",
    "ax = sns.heatmap(var_decomp_portions, cmap='Purples')\n",
    "ax.xaxis.set_ticklabels(dat_social_economic_scale.columns)\n",
    "# This suggests a collinearity between the last 3 variables (especially the last 2)\n",
    "# and another collinearity between the first two variables"
   ]
  }
 ],
 "metadata": {
  "interpreter": {
   "hash": "e7370f93d1d0cde622a1f8e1c04877d8463912d04d973331ad4851f04de6915a"
  },
  "kernelspec": {
   "display_name": "Python 3.10.1 64-bit",
   "language": "python",
   "name": "python3"
  },
  "language_info": {
   "codemirror_mode": {
    "name": "ipython",
    "version": 3
   },
   "file_extension": ".py",
   "mimetype": "text/x-python",
   "name": "python",
   "nbconvert_exporter": "python",
   "pygments_lexer": "ipython3",
   "version": "3.10.1"
  },
  "orig_nbformat": 4
 },
 "nbformat": 4,
 "nbformat_minor": 2
}
